{
 "cells": [
  {
   "cell_type": "code",
   "execution_count": 1,
   "metadata": {},
   "outputs": [
    {
     "data": {
      "application/vnd.jupyter.widget-view+json": {
       "model_id": "295678920e2b4baf836dea4d15a3ce0c",
       "version_major": 2,
       "version_minor": 0
      },
      "text/plain": [
       "FloatText(value=1000.0, description='Current Price:', style=DescriptionStyle(description_width='initial'))"
      ]
     },
     "metadata": {},
     "output_type": "display_data"
    },
    {
     "data": {
      "application/vnd.jupyter.widget-view+json": {
       "model_id": "2ec9342bd0dc4ef2ab66faeb6935d02c",
       "version_major": 2,
       "version_minor": 0
      },
      "text/plain": [
       "FloatSlider(value=0.6666, description='LTV:', max=1.0, readout_format='.4f', step=0.01)"
      ]
     },
     "metadata": {},
     "output_type": "display_data"
    },
    {
     "data": {
      "application/vnd.jupyter.widget-view+json": {
       "model_id": "6f49202c44be4032bbb67e91d5152f5a",
       "version_major": 2,
       "version_minor": 0
      },
      "text/plain": [
       "FloatText(value=800.0, description='Long Liq Price:', style=DescriptionStyle(description_width='initial'))"
      ]
     },
     "metadata": {},
     "output_type": "display_data"
    },
    {
     "data": {
      "application/vnd.jupyter.widget-view+json": {
       "model_id": "c2ad2a1dc16148b49a7e7ec9c721b056",
       "version_major": 2,
       "version_minor": 0
      },
      "text/plain": [
       "FloatText(value=1200.0, description='Short Liq Price:', style=DescriptionStyle(description_width='initial'))"
      ]
     },
     "metadata": {},
     "output_type": "display_data"
    },
    {
     "data": {
      "application/vnd.jupyter.widget-view+json": {
       "model_id": "0e292876601d4d64b12b6c4703542227",
       "version_major": 2,
       "version_minor": 0
      },
      "text/plain": [
       "Output()"
      ]
     },
     "metadata": {},
     "output_type": "display_data"
    }
   ],
   "source": [
    "import ipywidgets as widgets\n",
    "from IPython.display import display\n",
    "\n",
    "def calculate_arbitrage_allocation(current_price, ltv, long_liq_price, short_liq_price):\n",
    "    # Calculate leverage for long position\n",
    "    long_leverage = 1 / (1 - ltv * (long_liq_price / current_price))\n",
    "    \n",
    "    # Calculate leverage for short position\n",
    "    short_leverage = 1 / ((short_liq_price / current_price) - 1)\n",
    "    \n",
    "    # Calculate capital allocation\n",
    "    total_leverage = long_leverage + short_leverage\n",
    "    long_allocation = short_leverage / total_leverage\n",
    "    short_allocation = long_leverage / total_leverage\n",
    "    \n",
    "    return {\n",
    "        'long_allocation': long_allocation,\n",
    "        'short_allocation': short_allocation,\n",
    "        'long_leverage': long_leverage,\n",
    "        'short_leverage': short_leverage\n",
    "    }\n",
    "\n",
    "# Create widgets\n",
    "current_price_widget = widgets.FloatText(\n",
    "    value=1000,\n",
    "    description='Current Price:',\n",
    "    style={'description_width': 'initial'}\n",
    ")\n",
    "\n",
    "ltv_widget = widgets.FloatSlider(\n",
    "    value=0.6666,\n",
    "    min=0,\n",
    "    max=1.0,\n",
    "    step=0.01,\n",
    "    description='LTV:',\n",
    "    readout_format='.4f'\n",
    ")\n",
    "\n",
    "long_liq_price_widget = widgets.FloatText(\n",
    "    value=800,\n",
    "    description='Long Liq Price:',\n",
    "    style={'description_width': 'initial'}\n",
    ")\n",
    "\n",
    "short_liq_price_widget = widgets.FloatText(\n",
    "    value=1200,\n",
    "    description='Short Liq Price:',\n",
    "    style={'description_width': 'initial'}\n",
    ")\n",
    "\n",
    "output = widgets.Output()\n",
    "\n",
    "def on_value_change(change):\n",
    "    with output:\n",
    "        output.clear_output()\n",
    "        try:\n",
    "            result = calculate_arbitrage_allocation(\n",
    "                current_price_widget.value,\n",
    "                ltv_widget.value,\n",
    "                long_liq_price_widget.value,\n",
    "                short_liq_price_widget.value\n",
    "            )\n",
    "            print(\"\\nResults:\")\n",
    "            print(f\"Long position: Allocate {result['long_allocation']*100:.2f}% of capital with {result['long_leverage']:.2f}x leverage\")\n",
    "            print(f\"Short position: Allocate {result['short_allocation']*100:.2f}% of capital with {result['short_leverage']:.2f}x leverage\")\n",
    "        except Exception as e:\n",
    "            print(f\"Error: {str(e)}\")\n",
    "\n",
    "# Observe changes in all widgets\n",
    "current_price_widget.observe(on_value_change, names='value')\n",
    "ltv_widget.observe(on_value_change, names='value')\n",
    "long_liq_price_widget.observe(on_value_change, names='value')\n",
    "short_liq_price_widget.observe(on_value_change, names='value')\n",
    "\n",
    "# Display widgets and output\n",
    "display(current_price_widget, ltv_widget, long_liq_price_widget, short_liq_price_widget, output)\n",
    "\n",
    "# Trigger initial calculation\n",
    "on_value_change({'new': None})"
   ]
  }
 ],
 "metadata": {
  "kernelspec": {
   "display_name": "base",
   "language": "python",
   "name": "python3"
  },
  "language_info": {
   "codemirror_mode": {
    "name": "ipython",
    "version": 3
   },
   "file_extension": ".py",
   "mimetype": "text/x-python",
   "name": "python",
   "nbconvert_exporter": "python",
   "pygments_lexer": "ipython3",
   "version": "3.12.4"
  }
 },
 "nbformat": 4,
 "nbformat_minor": 2
}
